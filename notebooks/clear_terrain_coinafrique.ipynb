{
 "cells": [
  {
   "cell_type": "code",
   "execution_count": 1,
   "id": "initial_id",
   "metadata": {
    "collapsed": true,
    "ExecuteTime": {
     "end_time": "2024-02-21T18:43:58.349441Z",
     "start_time": "2024-02-21T18:43:57.946188Z"
    }
   },
   "outputs": [
    {
     "name": "stdout",
     "output_type": "stream",
     "text": [
      "Laminou, Ouèssè, Collines, Bénin\n"
     ]
    }
   ],
   "source": [
    "from datetime import datetime\n",
    "\n",
    "import pandas as pd\n",
    "from utils import get_location_details"
   ]
  },
  {
   "cell_type": "code",
   "outputs": [],
   "source": [
    "def process_data(data):\n",
    "    if \"m2\" in data:\n",
    "        return int(data.replace(\"m2\", \"\"))\n",
    "    elif \"Ha\" in data:\n",
    "        return int(data.replace(\"Ha\", \"\")) * 10000\n",
    "\n",
    "    else:\n",
    "        return data"
   ],
   "metadata": {
    "collapsed": false,
    "ExecuteTime": {
     "end_time": "2024-02-21T18:44:00.339619Z",
     "start_time": "2024-02-21T18:44:00.326348Z"
    }
   },
   "id": "137ac0f3434021a9",
   "execution_count": 2
  },
  {
   "cell_type": "code",
   "outputs": [],
   "source": [
    "def convert_to_int(value):\n",
    "    # Try to convert the value to an integer\n",
    "    try:\n",
    "        return int(value)\n",
    "    except ValueError:\n",
    "        # If a ValueError is raised, remove non-numeric characters and try again\n",
    "        return int(\"\".join(filter(str.isdigit, str(value))) or 0)"
   ],
   "metadata": {
    "collapsed": false,
    "ExecuteTime": {
     "end_time": "2024-02-21T18:44:01.819605Z",
     "start_time": "2024-02-21T18:44:01.814095Z"
    }
   },
   "id": "2456a13740cdd8e",
   "execution_count": 3
  },
  {
   "cell_type": "code",
   "outputs": [],
   "source": [
    "def date_correction(date):\n",
    "    return date - 2 * (date - datetime.now())"
   ],
   "metadata": {
    "collapsed": false,
    "ExecuteTime": {
     "end_time": "2024-02-21T18:44:02.449432Z",
     "start_time": "2024-02-21T18:44:02.443103Z"
    }
   },
   "id": "7b73b32a8f12419",
   "execution_count": 4
  },
  {
   "cell_type": "code",
   "outputs": [],
   "source": [
    "# Read the CSV file\n",
    "df = pd.read_csv(\"../terrain_coinafrique.csv\", skiprows=1)"
   ],
   "metadata": {
    "collapsed": false,
    "ExecuteTime": {
     "end_time": "2024-02-21T18:44:03.387956Z",
     "start_time": "2024-02-21T18:44:03.334327Z"
    }
   },
   "id": "2916b8dba5d8ec67",
   "execution_count": 5
  },
  {
   "cell_type": "code",
   "outputs": [
    {
     "data": {
      "text/plain": "                         title  \\\n0                    Parcelle    \n1             Terrains 350m²     \n2             Parcelle 325 m2    \n3              Parcelles 631m²   \n5                   Parcelles    \n...                        ...   \n8881      Vente Terrain 450m²    \n8882     Vente parcelle 500m²    \n8883  Vente parcelles 350 m²     \n8887     Vente Terrain 501 m²    \n9070            Parcelle 350m²   \n\n                                            description     price  area  \\\n0     Détails du produitParcelle size à glo dans la ...  25000000  3600   \n1     Détails du produitBonjour. notre cabinet met e...  12000000   350   \n2     Détails du produitNous mettons en vente a akpa...  25000000   325   \n3     Détails du produitNous mettons en vente pour u...  45000000   684   \n5     Détails du produitIl est mis en vente à hêvié ...   3200000   500   \n...                                                 ...       ...   ...   \n8881  Détails du produitVente d’un ensemble de 10 pa...   2699000   450   \n8882  Détails du produitVente de parcelles de 500m² ...    890000   500   \n8883  Détails du produitVente d’un ensemble de 22 pa...    399000   350   \n8887  Détails du produitParcelle de superficie: 501m...  50000000   501   \n9070  Détails du produitPlusieurs parcelles de 350m²...   1500000   500   \n\n         date             city  \n0     2024-02              glo  \n1     2024-02    abomey-calavi  \n2     2024-02  akpakpa avotrou  \n3     2024-02            sagla  \n5     2024-02            hevié  \n...       ...              ...  \n8881  2021-02     hevié centre  \n8882  2021-02    zinvié zoumey  \n8883  2021-02         kpomassè  \n8887  2021-02          cotonou  \n9070  2024-02   tori akadjamey  \n\n[7859 rows x 6 columns]",
      "text/html": "<div>\n<style scoped>\n    .dataframe tbody tr th:only-of-type {\n        vertical-align: middle;\n    }\n\n    .dataframe tbody tr th {\n        vertical-align: top;\n    }\n\n    .dataframe thead th {\n        text-align: right;\n    }\n</style>\n<table border=\"1\" class=\"dataframe\">\n  <thead>\n    <tr style=\"text-align: right;\">\n      <th></th>\n      <th>title</th>\n      <th>description</th>\n      <th>price</th>\n      <th>area</th>\n      <th>date</th>\n      <th>city</th>\n    </tr>\n  </thead>\n  <tbody>\n    <tr>\n      <th>0</th>\n      <td>Parcelle</td>\n      <td>Détails du produitParcelle size à glo dans la ...</td>\n      <td>25000000</td>\n      <td>3600</td>\n      <td>2024-02</td>\n      <td>glo</td>\n    </tr>\n    <tr>\n      <th>1</th>\n      <td>Terrains 350m²</td>\n      <td>Détails du produitBonjour. notre cabinet met e...</td>\n      <td>12000000</td>\n      <td>350</td>\n      <td>2024-02</td>\n      <td>abomey-calavi</td>\n    </tr>\n    <tr>\n      <th>2</th>\n      <td>Parcelle 325 m2</td>\n      <td>Détails du produitNous mettons en vente a akpa...</td>\n      <td>25000000</td>\n      <td>325</td>\n      <td>2024-02</td>\n      <td>akpakpa avotrou</td>\n    </tr>\n    <tr>\n      <th>3</th>\n      <td>Parcelles 631m²</td>\n      <td>Détails du produitNous mettons en vente pour u...</td>\n      <td>45000000</td>\n      <td>684</td>\n      <td>2024-02</td>\n      <td>sagla</td>\n    </tr>\n    <tr>\n      <th>5</th>\n      <td>Parcelles</td>\n      <td>Détails du produitIl est mis en vente à hêvié ...</td>\n      <td>3200000</td>\n      <td>500</td>\n      <td>2024-02</td>\n      <td>hevié</td>\n    </tr>\n    <tr>\n      <th>...</th>\n      <td>...</td>\n      <td>...</td>\n      <td>...</td>\n      <td>...</td>\n      <td>...</td>\n      <td>...</td>\n    </tr>\n    <tr>\n      <th>8881</th>\n      <td>Vente Terrain 450m²</td>\n      <td>Détails du produitVente d’un ensemble de 10 pa...</td>\n      <td>2699000</td>\n      <td>450</td>\n      <td>2021-02</td>\n      <td>hevié centre</td>\n    </tr>\n    <tr>\n      <th>8882</th>\n      <td>Vente parcelle 500m²</td>\n      <td>Détails du produitVente de parcelles de 500m² ...</td>\n      <td>890000</td>\n      <td>500</td>\n      <td>2021-02</td>\n      <td>zinvié zoumey</td>\n    </tr>\n    <tr>\n      <th>8883</th>\n      <td>Vente parcelles 350 m²</td>\n      <td>Détails du produitVente d’un ensemble de 22 pa...</td>\n      <td>399000</td>\n      <td>350</td>\n      <td>2021-02</td>\n      <td>kpomassè</td>\n    </tr>\n    <tr>\n      <th>8887</th>\n      <td>Vente Terrain 501 m²</td>\n      <td>Détails du produitParcelle de superficie: 501m...</td>\n      <td>50000000</td>\n      <td>501</td>\n      <td>2021-02</td>\n      <td>cotonou</td>\n    </tr>\n    <tr>\n      <th>9070</th>\n      <td>Parcelle 350m²</td>\n      <td>Détails du produitPlusieurs parcelles de 350m²...</td>\n      <td>1500000</td>\n      <td>500</td>\n      <td>2024-02</td>\n      <td>tori akadjamey</td>\n    </tr>\n  </tbody>\n</table>\n<p>7859 rows × 6 columns</p>\n</div>"
     },
     "execution_count": 19,
     "metadata": {},
     "output_type": "execute_result"
    }
   ],
   "source": [
    "df"
   ],
   "metadata": {
    "collapsed": false,
    "ExecuteTime": {
     "end_time": "2024-02-21T19:41:28.874407Z",
     "start_time": "2024-02-21T19:41:28.852599Z"
    }
   },
   "id": "113ce5f5c1a7c95a",
   "execution_count": 19
  },
  {
   "cell_type": "code",
   "outputs": [],
   "source": [
    "# Remove duplicate rows\n",
    "df = df.drop_duplicates()\n",
    "# Set the column names\n",
    "df.columns = [\"title\", \"description\", \"price\", \"area\", \"date\"]"
   ],
   "metadata": {
    "collapsed": false,
    "ExecuteTime": {
     "end_time": "2024-02-21T18:44:04.872998Z",
     "start_time": "2024-02-21T18:44:04.846124Z"
    }
   },
   "id": "23f742e40af753e7",
   "execution_count": 7
  },
  {
   "cell_type": "code",
   "outputs": [],
   "source": [
    "# Delete  \"m2\" on column \"area\" and\n",
    "df[\"area\"] = df[\"area\"].apply(process_data)\n",
    "# Convert the \"area\" column to integers\n",
    "df[\"area\"] = df[\"area\"].apply(convert_to_int)\n",
    "df[\"price\"] = df[\"price\"].apply(convert_to_int)"
   ],
   "metadata": {
    "collapsed": false,
    "ExecuteTime": {
     "end_time": "2024-02-21T18:44:05.437085Z",
     "start_time": "2024-02-21T18:44:05.418142Z"
    }
   },
   "id": "f587cff8b1268266",
   "execution_count": 8
  },
  {
   "cell_type": "code",
   "outputs": [],
   "source": [
    "# Delete the column with price < 10000 or area < 100\n",
    "df = df[df[\"price\"] > 10000]\n",
    "df = df[df[\"area\"] > 100]"
   ],
   "metadata": {
    "collapsed": false,
    "ExecuteTime": {
     "end_time": "2024-02-21T18:44:06.231421Z",
     "start_time": "2024-02-21T18:44:06.223976Z"
    }
   },
   "id": "64a087600ede1f6b",
   "execution_count": 9
  },
  {
   "cell_type": "code",
   "outputs": [],
   "source": [
    "df[\"date\"] = pd.to_datetime(df[\"date\"])\n",
    "df[\"date\"] = df[\"date\"].apply(date_correction)"
   ],
   "metadata": {
    "collapsed": false,
    "ExecuteTime": {
     "end_time": "2024-02-21T18:44:07.113660Z",
     "start_time": "2024-02-21T18:44:07.019730Z"
    }
   },
   "id": "ca7aace26a5c238",
   "execution_count": 10
  },
  {
   "cell_type": "code",
   "outputs": [],
   "source": [
    "# reduce date to years and months\n",
    "df[\"date\"] = df[\"date\"].dt.strftime(\"%Y-%m\")\n",
    "# Remove duplicate rows\n",
    "df = df.drop_duplicates()"
   ],
   "metadata": {
    "collapsed": false,
    "ExecuteTime": {
     "end_time": "2024-02-21T18:44:07.589336Z",
     "start_time": "2024-02-21T18:44:07.544584Z"
    }
   },
   "id": "336280c4235b14e6",
   "execution_count": 11
  },
  {
   "cell_type": "code",
   "outputs": [],
   "source": [
    "# Transform title column on two columns\n",
    "df[[\"title\", \"city\"]] = df[\"title\"].str.split(\"-\", n=1, expand=True)\n",
    "# Delete the column with city null\n",
    "df = df[df[\"city\"].notna()]"
   ],
   "metadata": {
    "collapsed": false,
    "ExecuteTime": {
     "end_time": "2024-02-21T18:44:08.331127Z",
     "start_time": "2024-02-21T18:44:08.325575Z"
    }
   },
   "id": "859ad3761113612b",
   "execution_count": 12
  },
  {
   "cell_type": "code",
   "outputs": [],
   "source": [
    "# suppress spaces at the beginning of the city column\n",
    "df[\"city\"] = df[\"city\"].str.strip()"
   ],
   "metadata": {
    "collapsed": false,
    "ExecuteTime": {
     "end_time": "2024-02-21T18:44:08.955512Z",
     "start_time": "2024-02-21T18:44:08.950800Z"
    }
   },
   "id": "ca9290451ed1ee22",
   "execution_count": 13
  },
  {
   "cell_type": "code",
   "outputs": [],
   "source": [
    "# transform the city column to lowercase\n",
    "df[\"city\"] = df[\"city\"].str.lower()"
   ],
   "metadata": {
    "collapsed": false,
    "ExecuteTime": {
     "end_time": "2024-02-21T19:30:16.489735Z",
     "start_time": "2024-02-21T19:30:16.483723Z"
    }
   },
   "id": "6d4fe05e22753024",
   "execution_count": 16
  },
  {
   "cell_type": "code",
   "outputs": [
    {
     "ename": "GeocoderInsufficientPrivileges",
     "evalue": "Non-successful status code 403",
     "output_type": "error",
     "traceback": [
      "\u001B[0;31m---------------------------------------------------------------------------\u001B[0m",
      "\u001B[0;31mAdapterHTTPError\u001B[0m                          Traceback (most recent call last)",
      "File \u001B[0;32m~/anaconda3/envs/MarketReal/lib/python3.9/site-packages/geopy/geocoders/base.py:368\u001B[0m, in \u001B[0;36mGeocoder._call_geocoder\u001B[0;34m(self, url, callback, timeout, is_json, headers)\u001B[0m\n\u001B[1;32m    367\u001B[0m \u001B[38;5;28;01mif\u001B[39;00m is_json:\n\u001B[0;32m--> 368\u001B[0m     result \u001B[38;5;241m=\u001B[39m \u001B[38;5;28;43mself\u001B[39;49m\u001B[38;5;241;43m.\u001B[39;49m\u001B[43madapter\u001B[49m\u001B[38;5;241;43m.\u001B[39;49m\u001B[43mget_json\u001B[49m\u001B[43m(\u001B[49m\u001B[43murl\u001B[49m\u001B[43m,\u001B[49m\u001B[43m \u001B[49m\u001B[43mtimeout\u001B[49m\u001B[38;5;241;43m=\u001B[39;49m\u001B[43mtimeout\u001B[49m\u001B[43m,\u001B[49m\u001B[43m \u001B[49m\u001B[43mheaders\u001B[49m\u001B[38;5;241;43m=\u001B[39;49m\u001B[43mreq_headers\u001B[49m\u001B[43m)\u001B[49m\n\u001B[1;32m    369\u001B[0m \u001B[38;5;28;01melse\u001B[39;00m:\n",
      "File \u001B[0;32m~/anaconda3/envs/MarketReal/lib/python3.9/site-packages/geopy/adapters.py:472\u001B[0m, in \u001B[0;36mRequestsAdapter.get_json\u001B[0;34m(self, url, timeout, headers)\u001B[0m\n\u001B[1;32m    471\u001B[0m \u001B[38;5;28;01mdef\u001B[39;00m \u001B[38;5;21mget_json\u001B[39m(\u001B[38;5;28mself\u001B[39m, url, \u001B[38;5;241m*\u001B[39m, timeout, headers):\n\u001B[0;32m--> 472\u001B[0m     resp \u001B[38;5;241m=\u001B[39m \u001B[38;5;28;43mself\u001B[39;49m\u001B[38;5;241;43m.\u001B[39;49m\u001B[43m_request\u001B[49m\u001B[43m(\u001B[49m\u001B[43murl\u001B[49m\u001B[43m,\u001B[49m\u001B[43m \u001B[49m\u001B[43mtimeout\u001B[49m\u001B[38;5;241;43m=\u001B[39;49m\u001B[43mtimeout\u001B[49m\u001B[43m,\u001B[49m\u001B[43m \u001B[49m\u001B[43mheaders\u001B[49m\u001B[38;5;241;43m=\u001B[39;49m\u001B[43mheaders\u001B[49m\u001B[43m)\u001B[49m\n\u001B[1;32m    473\u001B[0m     \u001B[38;5;28;01mtry\u001B[39;00m:\n",
      "File \u001B[0;32m~/anaconda3/envs/MarketReal/lib/python3.9/site-packages/geopy/adapters.py:500\u001B[0m, in \u001B[0;36mRequestsAdapter._request\u001B[0;34m(self, url, timeout, headers)\u001B[0m\n\u001B[1;32m    499\u001B[0m     \u001B[38;5;28;01mif\u001B[39;00m resp\u001B[38;5;241m.\u001B[39mstatus_code \u001B[38;5;241m>\u001B[39m\u001B[38;5;241m=\u001B[39m \u001B[38;5;241m400\u001B[39m:\n\u001B[0;32m--> 500\u001B[0m         \u001B[38;5;28;01mraise\u001B[39;00m AdapterHTTPError(\n\u001B[1;32m    501\u001B[0m             \u001B[38;5;124m\"\u001B[39m\u001B[38;5;124mNon-successful status code \u001B[39m\u001B[38;5;132;01m%s\u001B[39;00m\u001B[38;5;124m\"\u001B[39m \u001B[38;5;241m%\u001B[39m resp\u001B[38;5;241m.\u001B[39mstatus_code,\n\u001B[1;32m    502\u001B[0m             status_code\u001B[38;5;241m=\u001B[39mresp\u001B[38;5;241m.\u001B[39mstatus_code,\n\u001B[1;32m    503\u001B[0m             headers\u001B[38;5;241m=\u001B[39mresp\u001B[38;5;241m.\u001B[39mheaders,\n\u001B[1;32m    504\u001B[0m             text\u001B[38;5;241m=\u001B[39mresp\u001B[38;5;241m.\u001B[39mtext,\n\u001B[1;32m    505\u001B[0m         )\n\u001B[1;32m    507\u001B[0m \u001B[38;5;28;01mreturn\u001B[39;00m resp\n",
      "\u001B[0;31mAdapterHTTPError\u001B[0m: Non-successful status code 403",
      "\nThe above exception was the direct cause of the following exception:\n",
      "\u001B[0;31mGeocoderInsufficientPrivileges\u001B[0m            Traceback (most recent call last)",
      "Cell \u001B[0;32mIn[23], line 2\u001B[0m\n\u001B[1;32m      1\u001B[0m \u001B[38;5;66;03m# Get the location details and save on the 4 new column\u001B[39;00m\n\u001B[0;32m----> 2\u001B[0m df[[\u001B[38;5;124m\"\u001B[39m\u001B[38;5;124mlocation\u001B[39m\u001B[38;5;124m\"\u001B[39m]] \u001B[38;5;241m=\u001B[39m \u001B[43mdf\u001B[49m\u001B[43m[\u001B[49m\u001B[38;5;124;43m\"\u001B[39;49m\u001B[38;5;124;43mcity\u001B[39;49m\u001B[38;5;124;43m\"\u001B[39;49m\u001B[43m]\u001B[49m\u001B[38;5;241;43m.\u001B[39;49m\u001B[43mapply\u001B[49m\u001B[43m(\u001B[49m\u001B[43mget_location_details\u001B[49m\u001B[43m)\u001B[49m\n",
      "File \u001B[0;32m~/anaconda3/envs/MarketReal/lib/python3.9/site-packages/pandas/core/series.py:4757\u001B[0m, in \u001B[0;36mSeries.apply\u001B[0;34m(self, func, convert_dtype, args, by_row, **kwargs)\u001B[0m\n\u001B[1;32m   4629\u001B[0m \u001B[38;5;28;01mdef\u001B[39;00m \u001B[38;5;21mapply\u001B[39m(\n\u001B[1;32m   4630\u001B[0m     \u001B[38;5;28mself\u001B[39m,\n\u001B[1;32m   4631\u001B[0m     func: AggFuncType,\n\u001B[0;32m   (...)\u001B[0m\n\u001B[1;32m   4636\u001B[0m     \u001B[38;5;241m*\u001B[39m\u001B[38;5;241m*\u001B[39mkwargs,\n\u001B[1;32m   4637\u001B[0m ) \u001B[38;5;241m-\u001B[39m\u001B[38;5;241m>\u001B[39m DataFrame \u001B[38;5;241m|\u001B[39m Series:\n\u001B[1;32m   4638\u001B[0m \u001B[38;5;250m    \u001B[39m\u001B[38;5;124;03m\"\"\"\u001B[39;00m\n\u001B[1;32m   4639\u001B[0m \u001B[38;5;124;03m    Invoke function on values of Series.\u001B[39;00m\n\u001B[1;32m   4640\u001B[0m \n\u001B[0;32m   (...)\u001B[0m\n\u001B[1;32m   4755\u001B[0m \u001B[38;5;124;03m    dtype: float64\u001B[39;00m\n\u001B[1;32m   4756\u001B[0m \u001B[38;5;124;03m    \"\"\"\u001B[39;00m\n\u001B[0;32m-> 4757\u001B[0m     \u001B[38;5;28;01mreturn\u001B[39;00m \u001B[43mSeriesApply\u001B[49m\u001B[43m(\u001B[49m\n\u001B[1;32m   4758\u001B[0m \u001B[43m        \u001B[49m\u001B[38;5;28;43mself\u001B[39;49m\u001B[43m,\u001B[49m\n\u001B[1;32m   4759\u001B[0m \u001B[43m        \u001B[49m\u001B[43mfunc\u001B[49m\u001B[43m,\u001B[49m\n\u001B[1;32m   4760\u001B[0m \u001B[43m        \u001B[49m\u001B[43mconvert_dtype\u001B[49m\u001B[38;5;241;43m=\u001B[39;49m\u001B[43mconvert_dtype\u001B[49m\u001B[43m,\u001B[49m\n\u001B[1;32m   4761\u001B[0m \u001B[43m        \u001B[49m\u001B[43mby_row\u001B[49m\u001B[38;5;241;43m=\u001B[39;49m\u001B[43mby_row\u001B[49m\u001B[43m,\u001B[49m\n\u001B[1;32m   4762\u001B[0m \u001B[43m        \u001B[49m\u001B[43margs\u001B[49m\u001B[38;5;241;43m=\u001B[39;49m\u001B[43margs\u001B[49m\u001B[43m,\u001B[49m\n\u001B[1;32m   4763\u001B[0m \u001B[43m        \u001B[49m\u001B[43mkwargs\u001B[49m\u001B[38;5;241;43m=\u001B[39;49m\u001B[43mkwargs\u001B[49m\u001B[43m,\u001B[49m\n\u001B[1;32m   4764\u001B[0m \u001B[43m    \u001B[49m\u001B[43m)\u001B[49m\u001B[38;5;241;43m.\u001B[39;49m\u001B[43mapply\u001B[49m\u001B[43m(\u001B[49m\u001B[43m)\u001B[49m\n",
      "File \u001B[0;32m~/anaconda3/envs/MarketReal/lib/python3.9/site-packages/pandas/core/apply.py:1209\u001B[0m, in \u001B[0;36mSeriesApply.apply\u001B[0;34m(self)\u001B[0m\n\u001B[1;32m   1206\u001B[0m     \u001B[38;5;28;01mreturn\u001B[39;00m \u001B[38;5;28mself\u001B[39m\u001B[38;5;241m.\u001B[39mapply_compat()\n\u001B[1;32m   1208\u001B[0m \u001B[38;5;66;03m# self.func is Callable\u001B[39;00m\n\u001B[0;32m-> 1209\u001B[0m \u001B[38;5;28;01mreturn\u001B[39;00m \u001B[38;5;28;43mself\u001B[39;49m\u001B[38;5;241;43m.\u001B[39;49m\u001B[43mapply_standard\u001B[49m\u001B[43m(\u001B[49m\u001B[43m)\u001B[49m\n",
      "File \u001B[0;32m~/anaconda3/envs/MarketReal/lib/python3.9/site-packages/pandas/core/apply.py:1289\u001B[0m, in \u001B[0;36mSeriesApply.apply_standard\u001B[0;34m(self)\u001B[0m\n\u001B[1;32m   1283\u001B[0m \u001B[38;5;66;03m# row-wise access\u001B[39;00m\n\u001B[1;32m   1284\u001B[0m \u001B[38;5;66;03m# apply doesn't have a `na_action` keyword and for backward compat reasons\u001B[39;00m\n\u001B[1;32m   1285\u001B[0m \u001B[38;5;66;03m# we need to give `na_action=\"ignore\"` for categorical data.\u001B[39;00m\n\u001B[1;32m   1286\u001B[0m \u001B[38;5;66;03m# TODO: remove the `na_action=\"ignore\"` when that default has been changed in\u001B[39;00m\n\u001B[1;32m   1287\u001B[0m \u001B[38;5;66;03m#  Categorical (GH51645).\u001B[39;00m\n\u001B[1;32m   1288\u001B[0m action \u001B[38;5;241m=\u001B[39m \u001B[38;5;124m\"\u001B[39m\u001B[38;5;124mignore\u001B[39m\u001B[38;5;124m\"\u001B[39m \u001B[38;5;28;01mif\u001B[39;00m \u001B[38;5;28misinstance\u001B[39m(obj\u001B[38;5;241m.\u001B[39mdtype, CategoricalDtype) \u001B[38;5;28;01melse\u001B[39;00m \u001B[38;5;28;01mNone\u001B[39;00m\n\u001B[0;32m-> 1289\u001B[0m mapped \u001B[38;5;241m=\u001B[39m \u001B[43mobj\u001B[49m\u001B[38;5;241;43m.\u001B[39;49m\u001B[43m_map_values\u001B[49m\u001B[43m(\u001B[49m\n\u001B[1;32m   1290\u001B[0m \u001B[43m    \u001B[49m\u001B[43mmapper\u001B[49m\u001B[38;5;241;43m=\u001B[39;49m\u001B[43mcurried\u001B[49m\u001B[43m,\u001B[49m\u001B[43m \u001B[49m\u001B[43mna_action\u001B[49m\u001B[38;5;241;43m=\u001B[39;49m\u001B[43maction\u001B[49m\u001B[43m,\u001B[49m\u001B[43m \u001B[49m\u001B[43mconvert\u001B[49m\u001B[38;5;241;43m=\u001B[39;49m\u001B[38;5;28;43mself\u001B[39;49m\u001B[38;5;241;43m.\u001B[39;49m\u001B[43mconvert_dtype\u001B[49m\n\u001B[1;32m   1291\u001B[0m \u001B[43m\u001B[49m\u001B[43m)\u001B[49m\n\u001B[1;32m   1293\u001B[0m \u001B[38;5;28;01mif\u001B[39;00m \u001B[38;5;28mlen\u001B[39m(mapped) \u001B[38;5;129;01mand\u001B[39;00m \u001B[38;5;28misinstance\u001B[39m(mapped[\u001B[38;5;241m0\u001B[39m], ABCSeries):\n\u001B[1;32m   1294\u001B[0m     \u001B[38;5;66;03m# GH#43986 Need to do list(mapped) in order to get treated as nested\u001B[39;00m\n\u001B[1;32m   1295\u001B[0m     \u001B[38;5;66;03m#  See also GH#25959 regarding EA support\u001B[39;00m\n\u001B[1;32m   1296\u001B[0m     \u001B[38;5;28;01mreturn\u001B[39;00m obj\u001B[38;5;241m.\u001B[39m_constructor_expanddim(\u001B[38;5;28mlist\u001B[39m(mapped), index\u001B[38;5;241m=\u001B[39mobj\u001B[38;5;241m.\u001B[39mindex)\n",
      "File \u001B[0;32m~/anaconda3/envs/MarketReal/lib/python3.9/site-packages/pandas/core/base.py:921\u001B[0m, in \u001B[0;36mIndexOpsMixin._map_values\u001B[0;34m(self, mapper, na_action, convert)\u001B[0m\n\u001B[1;32m    918\u001B[0m \u001B[38;5;28;01mif\u001B[39;00m \u001B[38;5;28misinstance\u001B[39m(arr, ExtensionArray):\n\u001B[1;32m    919\u001B[0m     \u001B[38;5;28;01mreturn\u001B[39;00m arr\u001B[38;5;241m.\u001B[39mmap(mapper, na_action\u001B[38;5;241m=\u001B[39mna_action)\n\u001B[0;32m--> 921\u001B[0m \u001B[38;5;28;01mreturn\u001B[39;00m \u001B[43malgorithms\u001B[49m\u001B[38;5;241;43m.\u001B[39;49m\u001B[43mmap_array\u001B[49m\u001B[43m(\u001B[49m\u001B[43marr\u001B[49m\u001B[43m,\u001B[49m\u001B[43m \u001B[49m\u001B[43mmapper\u001B[49m\u001B[43m,\u001B[49m\u001B[43m \u001B[49m\u001B[43mna_action\u001B[49m\u001B[38;5;241;43m=\u001B[39;49m\u001B[43mna_action\u001B[49m\u001B[43m,\u001B[49m\u001B[43m \u001B[49m\u001B[43mconvert\u001B[49m\u001B[38;5;241;43m=\u001B[39;49m\u001B[43mconvert\u001B[49m\u001B[43m)\u001B[49m\n",
      "File \u001B[0;32m~/anaconda3/envs/MarketReal/lib/python3.9/site-packages/pandas/core/algorithms.py:1814\u001B[0m, in \u001B[0;36mmap_array\u001B[0;34m(arr, mapper, na_action, convert)\u001B[0m\n\u001B[1;32m   1812\u001B[0m values \u001B[38;5;241m=\u001B[39m arr\u001B[38;5;241m.\u001B[39mastype(\u001B[38;5;28mobject\u001B[39m, copy\u001B[38;5;241m=\u001B[39m\u001B[38;5;28;01mFalse\u001B[39;00m)\n\u001B[1;32m   1813\u001B[0m \u001B[38;5;28;01mif\u001B[39;00m na_action \u001B[38;5;129;01mis\u001B[39;00m \u001B[38;5;28;01mNone\u001B[39;00m:\n\u001B[0;32m-> 1814\u001B[0m     \u001B[38;5;28;01mreturn\u001B[39;00m \u001B[43mlib\u001B[49m\u001B[38;5;241;43m.\u001B[39;49m\u001B[43mmap_infer\u001B[49m\u001B[43m(\u001B[49m\u001B[43mvalues\u001B[49m\u001B[43m,\u001B[49m\u001B[43m \u001B[49m\u001B[43mmapper\u001B[49m\u001B[43m,\u001B[49m\u001B[43m \u001B[49m\u001B[43mconvert\u001B[49m\u001B[38;5;241;43m=\u001B[39;49m\u001B[43mconvert\u001B[49m\u001B[43m)\u001B[49m\n\u001B[1;32m   1815\u001B[0m \u001B[38;5;28;01melse\u001B[39;00m:\n\u001B[1;32m   1816\u001B[0m     \u001B[38;5;28;01mreturn\u001B[39;00m lib\u001B[38;5;241m.\u001B[39mmap_infer_mask(\n\u001B[1;32m   1817\u001B[0m         values, mapper, mask\u001B[38;5;241m=\u001B[39misna(values)\u001B[38;5;241m.\u001B[39mview(np\u001B[38;5;241m.\u001B[39muint8), convert\u001B[38;5;241m=\u001B[39mconvert\n\u001B[1;32m   1818\u001B[0m     )\n",
      "File \u001B[0;32mlib.pyx:2926\u001B[0m, in \u001B[0;36mpandas._libs.lib.map_infer\u001B[0;34m()\u001B[0m\n",
      "File \u001B[0;32m~/PycharmProjects/MarketReal/utils.py:33\u001B[0m, in \u001B[0;36mget_location_details\u001B[0;34m(city_name)\u001B[0m\n\u001B[1;32m     30\u001B[0m geolocator \u001B[38;5;241m=\u001B[39m Nominatim(user_agent\u001B[38;5;241m=\u001B[39m\u001B[38;5;124m\"\u001B[39m\u001B[38;5;124mgeoapiExercises\u001B[39m\u001B[38;5;124m\"\u001B[39m)\n\u001B[1;32m     31\u001B[0m location_query \u001B[38;5;241m=\u001B[39m \u001B[38;5;124mf\u001B[39m\u001B[38;5;124m\"\u001B[39m\u001B[38;5;132;01m{\u001B[39;00mcity_name\u001B[38;5;132;01m}\u001B[39;00m\u001B[38;5;124m, Benin\u001B[39m\u001B[38;5;124m\"\u001B[39m\n\u001B[0;32m---> 33\u001B[0m \u001B[38;5;28;01mif\u001B[39;00m location \u001B[38;5;241m:=\u001B[39m \u001B[43mgeolocator\u001B[49m\u001B[38;5;241;43m.\u001B[39;49m\u001B[43mgeocode\u001B[49m\u001B[43m(\u001B[49m\u001B[43mlocation_query\u001B[49m\u001B[43m)\u001B[49m:\n\u001B[1;32m     34\u001B[0m     location_details \u001B[38;5;241m=\u001B[39m geolocator\u001B[38;5;241m.\u001B[39mreverse(\n\u001B[1;32m     35\u001B[0m         [location\u001B[38;5;241m.\u001B[39mlatitude, location\u001B[38;5;241m.\u001B[39mlongitude], language\u001B[38;5;241m=\u001B[39m\u001B[38;5;124m\"\u001B[39m\u001B[38;5;124mfr\u001B[39m\u001B[38;5;124m\"\u001B[39m\n\u001B[1;32m     36\u001B[0m     )\n\u001B[1;32m     37\u001B[0m     address \u001B[38;5;241m=\u001B[39m location_details\u001B[38;5;241m.\u001B[39maddress\n",
      "File \u001B[0;32m~/anaconda3/envs/MarketReal/lib/python3.9/site-packages/geopy/geocoders/nominatim.py:297\u001B[0m, in \u001B[0;36mNominatim.geocode\u001B[0;34m(self, query, exactly_one, timeout, limit, addressdetails, language, geometry, extratags, country_codes, viewbox, bounded, featuretype, namedetails)\u001B[0m\n\u001B[1;32m    295\u001B[0m logger\u001B[38;5;241m.\u001B[39mdebug(\u001B[38;5;124m\"\u001B[39m\u001B[38;5;132;01m%s\u001B[39;00m\u001B[38;5;124m.geocode: \u001B[39m\u001B[38;5;132;01m%s\u001B[39;00m\u001B[38;5;124m\"\u001B[39m, \u001B[38;5;28mself\u001B[39m\u001B[38;5;241m.\u001B[39m\u001B[38;5;18m__class__\u001B[39m\u001B[38;5;241m.\u001B[39m\u001B[38;5;18m__name__\u001B[39m, url)\n\u001B[1;32m    296\u001B[0m callback \u001B[38;5;241m=\u001B[39m partial(\u001B[38;5;28mself\u001B[39m\u001B[38;5;241m.\u001B[39m_parse_json, exactly_one\u001B[38;5;241m=\u001B[39mexactly_one)\n\u001B[0;32m--> 297\u001B[0m \u001B[38;5;28;01mreturn\u001B[39;00m \u001B[38;5;28;43mself\u001B[39;49m\u001B[38;5;241;43m.\u001B[39;49m\u001B[43m_call_geocoder\u001B[49m\u001B[43m(\u001B[49m\u001B[43murl\u001B[49m\u001B[43m,\u001B[49m\u001B[43m \u001B[49m\u001B[43mcallback\u001B[49m\u001B[43m,\u001B[49m\u001B[43m \u001B[49m\u001B[43mtimeout\u001B[49m\u001B[38;5;241;43m=\u001B[39;49m\u001B[43mtimeout\u001B[49m\u001B[43m)\u001B[49m\n",
      "File \u001B[0;32m~/anaconda3/envs/MarketReal/lib/python3.9/site-packages/geopy/geocoders/base.py:388\u001B[0m, in \u001B[0;36mGeocoder._call_geocoder\u001B[0;34m(self, url, callback, timeout, is_json, headers)\u001B[0m\n\u001B[1;32m    386\u001B[0m         \u001B[38;5;28;01mreturn\u001B[39;00m callback(result)\n\u001B[1;32m    387\u001B[0m \u001B[38;5;28;01mexcept\u001B[39;00m \u001B[38;5;167;01mException\u001B[39;00m \u001B[38;5;28;01mas\u001B[39;00m error:\n\u001B[0;32m--> 388\u001B[0m     res \u001B[38;5;241m=\u001B[39m \u001B[38;5;28;43mself\u001B[39;49m\u001B[38;5;241;43m.\u001B[39;49m\u001B[43m_adapter_error_handler\u001B[49m\u001B[43m(\u001B[49m\u001B[43merror\u001B[49m\u001B[43m)\u001B[49m\n\u001B[1;32m    389\u001B[0m     \u001B[38;5;28;01mif\u001B[39;00m res \u001B[38;5;129;01mis\u001B[39;00m NONE_RESULT:\n\u001B[1;32m    390\u001B[0m         \u001B[38;5;28;01mreturn\u001B[39;00m \u001B[38;5;28;01mNone\u001B[39;00m\n",
      "File \u001B[0;32m~/anaconda3/envs/MarketReal/lib/python3.9/site-packages/geopy/geocoders/base.py:411\u001B[0m, in \u001B[0;36mGeocoder._adapter_error_handler\u001B[0;34m(self, error)\u001B[0m\n\u001B[1;32m    407\u001B[0m         \u001B[38;5;28;01mraise\u001B[39;00m exc_cls(\n\u001B[1;32m    408\u001B[0m             \u001B[38;5;28mstr\u001B[39m(error), retry_after\u001B[38;5;241m=\u001B[39mget_retry_after(error\u001B[38;5;241m.\u001B[39mheaders)\n\u001B[1;32m    409\u001B[0m         ) \u001B[38;5;28;01mfrom\u001B[39;00m \u001B[38;5;21;01merror\u001B[39;00m\n\u001B[1;32m    410\u001B[0m     \u001B[38;5;28;01melse\u001B[39;00m:\n\u001B[0;32m--> 411\u001B[0m         \u001B[38;5;28;01mraise\u001B[39;00m exc_cls(\u001B[38;5;28mstr\u001B[39m(error)) \u001B[38;5;28;01mfrom\u001B[39;00m \u001B[38;5;21;01merror\u001B[39;00m\n\u001B[1;32m    412\u001B[0m \u001B[38;5;28;01melse\u001B[39;00m:\n\u001B[1;32m    413\u001B[0m     res \u001B[38;5;241m=\u001B[39m \u001B[38;5;28mself\u001B[39m\u001B[38;5;241m.\u001B[39m_geocoder_exception_handler(error)\n",
      "\u001B[0;31mGeocoderInsufficientPrivileges\u001B[0m: Non-successful status code 403"
     ]
    }
   ],
   "source": [
    "# Get the location details and save on the 4 new column\n",
    "df[[\"location\"]] = df[\"city\"].apply(get_location_details)"
   ],
   "metadata": {
    "collapsed": false,
    "ExecuteTime": {
     "end_time": "2024-02-21T19:56:23.256319Z",
     "start_time": "2024-02-21T19:56:22.776722Z"
    }
   },
   "id": "d610b1b9cf681bde",
   "execution_count": 23
  },
  {
   "cell_type": "code",
   "outputs": [
    {
     "data": {
      "text/plain": "                         title  \\\n0                    Parcelle    \n1             Terrains 350m²     \n2             Parcelle 325 m2    \n3              Parcelles 631m²   \n5                   Parcelles    \n...                        ...   \n8881      Vente Terrain 450m²    \n8882     Vente parcelle 500m²    \n8883  Vente parcelles 350 m²     \n8887     Vente Terrain 501 m²    \n9070            Parcelle 350m²   \n\n                                            description     price  area  \\\n0     Détails du produitParcelle size à glo dans la ...  25000000  3600   \n1     Détails du produitBonjour. notre cabinet met e...  12000000   350   \n2     Détails du produitNous mettons en vente a akpa...  25000000   325   \n3     Détails du produitNous mettons en vente pour u...  45000000   684   \n5     Détails du produitIl est mis en vente à hêvié ...   3200000   500   \n...                                                 ...       ...   ...   \n8881  Détails du produitVente d’un ensemble de 10 pa...   2699000   450   \n8882  Détails du produitVente de parcelles de 500m² ...    890000   500   \n8883  Détails du produitVente d’un ensemble de 22 pa...    399000   350   \n8887  Détails du produitParcelle de superficie: 501m...  50000000   501   \n9070  Détails du produitPlusieurs parcelles de 350m²...   1500000   500   \n\n         date             city  \n0     2024-02              glo  \n1     2024-02    abomey-calavi  \n2     2024-02  akpakpa avotrou  \n3     2024-02            sagla  \n5     2024-02            hevié  \n...       ...              ...  \n8881  2021-02     hevié centre  \n8882  2021-02    zinvié zoumey  \n8883  2021-02         kpomassè  \n8887  2021-02          cotonou  \n9070  2024-02   tori akadjamey  \n\n[7859 rows x 6 columns]",
      "text/html": "<div>\n<style scoped>\n    .dataframe tbody tr th:only-of-type {\n        vertical-align: middle;\n    }\n\n    .dataframe tbody tr th {\n        vertical-align: top;\n    }\n\n    .dataframe thead th {\n        text-align: right;\n    }\n</style>\n<table border=\"1\" class=\"dataframe\">\n  <thead>\n    <tr style=\"text-align: right;\">\n      <th></th>\n      <th>title</th>\n      <th>description</th>\n      <th>price</th>\n      <th>area</th>\n      <th>date</th>\n      <th>city</th>\n    </tr>\n  </thead>\n  <tbody>\n    <tr>\n      <th>0</th>\n      <td>Parcelle</td>\n      <td>Détails du produitParcelle size à glo dans la ...</td>\n      <td>25000000</td>\n      <td>3600</td>\n      <td>2024-02</td>\n      <td>glo</td>\n    </tr>\n    <tr>\n      <th>1</th>\n      <td>Terrains 350m²</td>\n      <td>Détails du produitBonjour. notre cabinet met e...</td>\n      <td>12000000</td>\n      <td>350</td>\n      <td>2024-02</td>\n      <td>abomey-calavi</td>\n    </tr>\n    <tr>\n      <th>2</th>\n      <td>Parcelle 325 m2</td>\n      <td>Détails du produitNous mettons en vente a akpa...</td>\n      <td>25000000</td>\n      <td>325</td>\n      <td>2024-02</td>\n      <td>akpakpa avotrou</td>\n    </tr>\n    <tr>\n      <th>3</th>\n      <td>Parcelles 631m²</td>\n      <td>Détails du produitNous mettons en vente pour u...</td>\n      <td>45000000</td>\n      <td>684</td>\n      <td>2024-02</td>\n      <td>sagla</td>\n    </tr>\n    <tr>\n      <th>5</th>\n      <td>Parcelles</td>\n      <td>Détails du produitIl est mis en vente à hêvié ...</td>\n      <td>3200000</td>\n      <td>500</td>\n      <td>2024-02</td>\n      <td>hevié</td>\n    </tr>\n    <tr>\n      <th>...</th>\n      <td>...</td>\n      <td>...</td>\n      <td>...</td>\n      <td>...</td>\n      <td>...</td>\n      <td>...</td>\n    </tr>\n    <tr>\n      <th>8881</th>\n      <td>Vente Terrain 450m²</td>\n      <td>Détails du produitVente d’un ensemble de 10 pa...</td>\n      <td>2699000</td>\n      <td>450</td>\n      <td>2021-02</td>\n      <td>hevié centre</td>\n    </tr>\n    <tr>\n      <th>8882</th>\n      <td>Vente parcelle 500m²</td>\n      <td>Détails du produitVente de parcelles de 500m² ...</td>\n      <td>890000</td>\n      <td>500</td>\n      <td>2021-02</td>\n      <td>zinvié zoumey</td>\n    </tr>\n    <tr>\n      <th>8883</th>\n      <td>Vente parcelles 350 m²</td>\n      <td>Détails du produitVente d’un ensemble de 22 pa...</td>\n      <td>399000</td>\n      <td>350</td>\n      <td>2021-02</td>\n      <td>kpomassè</td>\n    </tr>\n    <tr>\n      <th>8887</th>\n      <td>Vente Terrain 501 m²</td>\n      <td>Détails du produitParcelle de superficie: 501m...</td>\n      <td>50000000</td>\n      <td>501</td>\n      <td>2021-02</td>\n      <td>cotonou</td>\n    </tr>\n    <tr>\n      <th>9070</th>\n      <td>Parcelle 350m²</td>\n      <td>Détails du produitPlusieurs parcelles de 350m²...</td>\n      <td>1500000</td>\n      <td>500</td>\n      <td>2024-02</td>\n      <td>tori akadjamey</td>\n    </tr>\n  </tbody>\n</table>\n<p>7859 rows × 6 columns</p>\n</div>"
     },
     "execution_count": 17,
     "metadata": {},
     "output_type": "execute_result"
    }
   ],
   "source": [
    "df"
   ],
   "metadata": {
    "collapsed": false,
    "ExecuteTime": {
     "end_time": "2024-02-21T19:30:20.018631Z",
     "start_time": "2024-02-21T19:30:20.013267Z"
    }
   },
   "id": "9815af59c8d28275",
   "execution_count": 17
  },
  {
   "cell_type": "code",
   "outputs": [],
   "source": [],
   "metadata": {
    "collapsed": false
   },
   "id": "b119899ee44dd32a"
  },
  {
   "cell_type": "code",
   "outputs": [],
   "source": [
    "# Write the DataFrame back to the CSV file\n",
    "df.to_csv(\"../terrain_coinafrique_clean.csv\", index=False)"
   ],
   "metadata": {
    "collapsed": false,
    "ExecuteTime": {
     "end_time": "2024-02-21T18:08:37.087712Z",
     "start_time": "2024-02-21T18:08:37.070847Z"
    }
   },
   "id": "958a4a58fce7e5a4",
   "execution_count": 22
  },
  {
   "cell_type": "code",
   "outputs": [],
   "source": [],
   "metadata": {
    "collapsed": false
   },
   "id": "7cc0c84ab4d371ee"
  }
 ],
 "metadata": {
  "kernelspec": {
   "display_name": "Python 3",
   "language": "python",
   "name": "python3"
  },
  "language_info": {
   "codemirror_mode": {
    "name": "ipython",
    "version": 2
   },
   "file_extension": ".py",
   "mimetype": "text/x-python",
   "name": "python",
   "nbconvert_exporter": "python",
   "pygments_lexer": "ipython2",
   "version": "2.7.6"
  }
 },
 "nbformat": 4,
 "nbformat_minor": 5
}
