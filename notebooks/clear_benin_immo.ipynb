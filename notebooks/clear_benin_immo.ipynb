{
 "cells": [
  {
   "cell_type": "code",
   "execution_count": 1,
   "id": "initial_id",
   "metadata": {
    "collapsed": true,
    "ExecuteTime": {
     "end_time": "2024-02-21T19:37:31.693782Z",
     "start_time": "2024-02-21T19:37:31.346044Z"
    }
   },
   "outputs": [
    {
     "name": "stdout",
     "output_type": "stream",
     "text": [
      "Laminou, Ouèssè, Collines, Bénin\n"
     ]
    }
   ],
   "source": [
    "from datetime import datetime\n",
    "\n",
    "import pandas as pd\n",
    "from utils import get_location_details"
   ]
  },
  {
   "cell_type": "code",
   "outputs": [],
   "source": [
    "df = pd.read_csv(\"../terrain_benin_immo.csv\", skiprows=1)"
   ],
   "metadata": {
    "collapsed": false,
    "ExecuteTime": {
     "end_time": "2024-02-21T19:38:12.433965Z",
     "start_time": "2024-02-21T19:38:12.420807Z"
    }
   },
   "id": "c4b9cb3d2dd6808b",
   "execution_count": 2
  },
  {
   "cell_type": "code",
   "outputs": [
    {
     "data": {
      "text/plain": "          Terrain à vendre au bord du goudron à Togbin  \\\n0                         8 Hectares à vendre à Allada   \n1        Parcelles à vendre à Maria Gléta Awakè Calavi   \n2    Parcelle de 400m² avec titre foncier à vendre ...   \n3    Parcelle clôturée de 317 m2 à vendre à Fidjros...   \n4    276 Hectares de terre agricole avec ADC à vend...   \n..                                                 ...   \n192               Domaine de 6400 m2 à vendre à Allada   \n193          Vente de 3 parcelles ensemble à Fidjrossè   \n194                Maison à vendre à Fidjrossè Cotonou   \n195    Parcelle à vendre avec Titre Foncier à Houéyiho   \n196             Parcelle à vendre à Saint Jean Cotonou   \n\n    <div class=\"wpestate_property_description\" id=\"wpestate_property_description_section\"><h4 class=\"panel-title\">Description</h4><p>Nous vous présentons un terrain à vendre déjà lotie et recasée à Togbin plage au bord du goudron en première position de la route des pêches. Elle est en angle de rue une position idéale pour tout projet.</p><p>Superficie : 426m²</p><p>Document : Titre Foncier  encours.</p><p>Prix : 90 millions Fcfa</p><p>Droit de visite : 5000 Fcfa</p><p>Commission : 5 %</p><p> </p><p> </p></div>  \\\n0    <div class=\"wpestate_property_description\" id=...                                                                                                                                                                                                                                                                                                                                                                                                                                                                                 \n1    <div class=\"wpestate_property_description\" id=...                                                                                                                                                                                                                                                                                                                                                                                                                                                                                 \n2    <div class=\"wpestate_property_description\" id=...                                                                                                                                                                                                                                                                                                                                                                                                                                                                                 \n3    <div class=\"wpestate_property_description\" id=...                                                                                                                                                                                                                                                                                                                                                                                                                                                                                 \n4    <div class=\"wpestate_property_description\" id=...                                                                                                                                                                                                                                                                                                                                                                                                                                                                                 \n..                                                 ...                                                                                                                                                                                                                                                                                                                                                                                                                                                                                 \n192  <div class=\"wpestate_property_description\" id=...                                                                                                                                                                                                                                                                                                                                                                                                                                                                                 \n193  <div class=\"wpestate_property_description\" id=...                                                                                                                                                                                                                                                                                                                                                                                                                                                                                 \n194  <div class=\"wpestate_property_description\" id=...                                                                                                                                                                                                                                                                                                                                                                                                                                                                                 \n195  <div class=\"wpestate_property_description\" id=...                                                                                                                                                                                                                                                                                                                                                                                                                                                                                 \n196  <div class=\"wpestate_property_description\" id=...                                                                                                                                                                                                                                                                                                                                                                                                                                                                                 \n\n               \\n90.000.000 FCFA              \\n426.00 m2  \\\n0      \\n4.000.000 FCFA / Hectare          \\n80.000.00 m2   \n1     \\n5.500.000 FCFA / Parcelle  \\nN° ID Propriété49219   \n2               \\n2.800.000 FCFA              \\n400.00 m2   \n3              \\n18.000.000 FCFA              \\n317.00 m2   \n4        \\n450.000 FCFA / Hectare       \\n2.760.000.00 m2   \n..                            ...                     ...   \n192   \\n2.000.000 FCFA Négociable           \\n6.400.00 m2   \n193  \\n70.000.000 FCFA / Parcelle           \\n1.125.00 m2   \n194            \\n60.000.000 FCFA              \\n373.00 m2   \n195            \\n45.000.000 FCFA   \\nN° ID Propriété34566   \n196            \\n95.000.000 FCFA              \\n500.00 m2   \n\n             \\n\\nAbomey-Calavi, Togbin   janvier 19, 2024  \n0                   \\n\\nAllada, Allada   janvier 19, 2024  \n1       \\n\\nAbomey-Calavi, Maria Gléta    janvier 8, 2024  \n2                    \\n\\nOuidah, Pahou    janvier 8, 2024  \n3     \\n\\nCotonou, Akogbato, Fidjrossè    janvier 8, 2024  \n4                     \\n\\nKétou, Kétou    janvier 7, 2024  \n..                                 ...                ...  \n192                    \\n\\nAllada, SEY  décembre 23, 2023  \n193  \\n\\nFidjrossè, Cotonou, Fidjrossè  décembre 23, 2023  \n194             \\n\\nCotonou, Fidjrossè  décembre 18, 2023  \n195         \\n\\nCotonou, Cité Houéyiho  décembre 23, 2023  \n196            \\n\\nCotonou, Saint Jean  décembre 23, 2023  \n\n[197 rows x 6 columns]",
      "text/html": "<div>\n<style scoped>\n    .dataframe tbody tr th:only-of-type {\n        vertical-align: middle;\n    }\n\n    .dataframe tbody tr th {\n        vertical-align: top;\n    }\n\n    .dataframe thead th {\n        text-align: right;\n    }\n</style>\n<table border=\"1\" class=\"dataframe\">\n  <thead>\n    <tr style=\"text-align: right;\">\n      <th></th>\n      <th>Terrain à vendre au bord du goudron à Togbin</th>\n      <th>&lt;div class=\"wpestate_property_description\" id=\"wpestate_property_description_section\"&gt;&lt;h4 class=\"panel-title\"&gt;Description&lt;/h4&gt;&lt;p&gt;Nous vous présentons un terrain à vendre déjà lotie et recasée à Togbin plage au bord du goudron en première position de la route des pêches. Elle est en angle de rue une position idéale pour tout projet.&lt;/p&gt;&lt;p&gt;Superficie : 426m²&lt;/p&gt;&lt;p&gt;Document : Titre Foncier  encours.&lt;/p&gt;&lt;p&gt;Prix : 90 millions Fcfa&lt;/p&gt;&lt;p&gt;Droit de visite : 5000 Fcfa&lt;/p&gt;&lt;p&gt;Commission : 5 %&lt;/p&gt;&lt;p&gt; &lt;/p&gt;&lt;p&gt; &lt;/p&gt;&lt;/div&gt;</th>\n      <th>\\n90.000.000 FCFA</th>\n      <th>\\n426.00 m2</th>\n      <th>\\n\\nAbomey-Calavi, Togbin</th>\n      <th>janvier 19, 2024</th>\n    </tr>\n  </thead>\n  <tbody>\n    <tr>\n      <th>0</th>\n      <td>8 Hectares à vendre à Allada</td>\n      <td>&lt;div class=\"wpestate_property_description\" id=...</td>\n      <td>\\n4.000.000 FCFA / Hectare</td>\n      <td>\\n80.000.00 m2</td>\n      <td>\\n\\nAllada, Allada</td>\n      <td>janvier 19, 2024</td>\n    </tr>\n    <tr>\n      <th>1</th>\n      <td>Parcelles à vendre à Maria Gléta Awakè Calavi</td>\n      <td>&lt;div class=\"wpestate_property_description\" id=...</td>\n      <td>\\n5.500.000 FCFA / Parcelle</td>\n      <td>\\nN° ID Propriété49219</td>\n      <td>\\n\\nAbomey-Calavi, Maria Gléta</td>\n      <td>janvier 8, 2024</td>\n    </tr>\n    <tr>\n      <th>2</th>\n      <td>Parcelle de 400m² avec titre foncier à vendre ...</td>\n      <td>&lt;div class=\"wpestate_property_description\" id=...</td>\n      <td>\\n2.800.000 FCFA</td>\n      <td>\\n400.00 m2</td>\n      <td>\\n\\nOuidah, Pahou</td>\n      <td>janvier 8, 2024</td>\n    </tr>\n    <tr>\n      <th>3</th>\n      <td>Parcelle clôturée de 317 m2 à vendre à Fidjros...</td>\n      <td>&lt;div class=\"wpestate_property_description\" id=...</td>\n      <td>\\n18.000.000 FCFA</td>\n      <td>\\n317.00 m2</td>\n      <td>\\n\\nCotonou, Akogbato, Fidjrossè</td>\n      <td>janvier 8, 2024</td>\n    </tr>\n    <tr>\n      <th>4</th>\n      <td>276 Hectares de terre agricole avec ADC à vend...</td>\n      <td>&lt;div class=\"wpestate_property_description\" id=...</td>\n      <td>\\n450.000 FCFA / Hectare</td>\n      <td>\\n2.760.000.00 m2</td>\n      <td>\\n\\nKétou, Kétou</td>\n      <td>janvier 7, 2024</td>\n    </tr>\n    <tr>\n      <th>...</th>\n      <td>...</td>\n      <td>...</td>\n      <td>...</td>\n      <td>...</td>\n      <td>...</td>\n      <td>...</td>\n    </tr>\n    <tr>\n      <th>192</th>\n      <td>Domaine de 6400 m2 à vendre à Allada</td>\n      <td>&lt;div class=\"wpestate_property_description\" id=...</td>\n      <td>\\n2.000.000 FCFA Négociable</td>\n      <td>\\n6.400.00 m2</td>\n      <td>\\n\\nAllada, SEY</td>\n      <td>décembre 23, 2023</td>\n    </tr>\n    <tr>\n      <th>193</th>\n      <td>Vente de 3 parcelles ensemble à Fidjrossè</td>\n      <td>&lt;div class=\"wpestate_property_description\" id=...</td>\n      <td>\\n70.000.000 FCFA / Parcelle</td>\n      <td>\\n1.125.00 m2</td>\n      <td>\\n\\nFidjrossè, Cotonou, Fidjrossè</td>\n      <td>décembre 23, 2023</td>\n    </tr>\n    <tr>\n      <th>194</th>\n      <td>Maison à vendre à Fidjrossè Cotonou</td>\n      <td>&lt;div class=\"wpestate_property_description\" id=...</td>\n      <td>\\n60.000.000 FCFA</td>\n      <td>\\n373.00 m2</td>\n      <td>\\n\\nCotonou, Fidjrossè</td>\n      <td>décembre 18, 2023</td>\n    </tr>\n    <tr>\n      <th>195</th>\n      <td>Parcelle à vendre avec Titre Foncier à Houéyiho</td>\n      <td>&lt;div class=\"wpestate_property_description\" id=...</td>\n      <td>\\n45.000.000 FCFA</td>\n      <td>\\nN° ID Propriété34566</td>\n      <td>\\n\\nCotonou, Cité Houéyiho</td>\n      <td>décembre 23, 2023</td>\n    </tr>\n    <tr>\n      <th>196</th>\n      <td>Parcelle à vendre à Saint Jean Cotonou</td>\n      <td>&lt;div class=\"wpestate_property_description\" id=...</td>\n      <td>\\n95.000.000 FCFA</td>\n      <td>\\n500.00 m2</td>\n      <td>\\n\\nCotonou, Saint Jean</td>\n      <td>décembre 23, 2023</td>\n    </tr>\n  </tbody>\n</table>\n<p>197 rows × 6 columns</p>\n</div>"
     },
     "execution_count": 3,
     "metadata": {},
     "output_type": "execute_result"
    }
   ],
   "source": [
    "df"
   ],
   "metadata": {
    "collapsed": false,
    "ExecuteTime": {
     "end_time": "2024-02-21T19:38:15.418826Z",
     "start_time": "2024-02-21T19:38:15.409934Z"
    }
   },
   "id": "2981366c5cdf2405",
   "execution_count": 3
  },
  {
   "cell_type": "code",
   "outputs": [],
   "source": [
    "# Remove duplicate rows\n",
    "df = df.drop_duplicates()\n",
    "# Set the column names\n",
    "df.columns = [\"title\", \"description\", \"price\", \"area\", \"location\", \"date\"]"
   ],
   "metadata": {
    "collapsed": false,
    "ExecuteTime": {
     "end_time": "2024-02-21T19:39:29.936226Z",
     "start_time": "2024-02-21T19:39:29.931397Z"
    }
   },
   "id": "937fe74beb195738",
   "execution_count": 4
  },
  {
   "cell_type": "code",
   "outputs": [],
   "source": [
    "from bs4 import BeautifulSoup\n",
    "\n",
    "# Function to extract text\n",
    "def extract_text(html):\n",
    "    soup = BeautifulSoup(html, 'html.parser')\n",
    "    return soup.get_text()"
   ],
   "metadata": {
    "collapsed": false,
    "ExecuteTime": {
     "end_time": "2024-02-21T19:42:15.118219Z",
     "start_time": "2024-02-21T19:42:14.952626Z"
    }
   },
   "id": "4e2bc802b6d765ff",
   "execution_count": 6
  },
  {
   "cell_type": "code",
   "outputs": [
    {
     "name": "stderr",
     "output_type": "stream",
     "text": [
      "/var/folders/kx/kwzs_5p933b6h50__7gh_t7w0000gn/T/ipykernel_22259/1217185562.py:2: SettingWithCopyWarning: \n",
      "A value is trying to be set on a copy of a slice from a DataFrame.\n",
      "Try using .loc[row_indexer,col_indexer] = value instead\n",
      "\n",
      "See the caveats in the documentation: https://pandas.pydata.org/pandas-docs/stable/user_guide/indexing.html#returning-a-view-versus-a-copy\n",
      "  df['description'] = df['description'].apply(extract_text)\n"
     ]
    }
   ],
   "source": [
    "# Apply the function to the 'description' column\n",
    "df.loc[:, 'description'] = df['description'].apply(extract_text)\n"
   ],
   "metadata": {
    "collapsed": false,
    "ExecuteTime": {
     "end_time": "2024-02-21T19:42:25.606341Z",
     "start_time": "2024-02-21T19:42:25.603663Z"
    }
   },
   "id": "ac807ebe448b42e6",
   "execution_count": 7
  },
  {
   "cell_type": "code",
   "outputs": [
    {
     "data": {
      "text/plain": "                                                 title  \\\n0                         8 Hectares à vendre à Allada   \n1        Parcelles à vendre à Maria Gléta Awakè Calavi   \n2    Parcelle de 400m² avec titre foncier à vendre ...   \n3    Parcelle clôturée de 317 m2 à vendre à Fidjros...   \n4    276 Hectares de terre agricole avec ADC à vend...   \n..                                                 ...   \n192               Domaine de 6400 m2 à vendre à Allada   \n193          Vente de 3 parcelles ensemble à Fidjrossè   \n194                Maison à vendre à Fidjrossè Cotonou   \n195    Parcelle à vendre avec Titre Foncier à Houéyiho   \n196             Parcelle à vendre à Saint Jean Cotonou   \n\n                                           description  \\\n0    DescriptionOPPORTUNITÉ RARE D’HECTARES A VENDR...   \n1    DescriptionDisponibles des parcelles à vendre ...   \n2    DescriptionOpportunité d’une parcelle de 400m²...   \n3    DescriptionNous vous présentons l’opportunité ...   \n4    DescriptionOpportunité de 276 hectares de terr...   \n..                                                 ...   \n192  DescriptionNous vous proposons un domaine à ve...   \n193  DescriptionVENTE DE 3 PARCELLES ENSEMBLE A FID...   \n194  DescriptionMAISON A VENDRE A FIDJROSSE COTONOU...   \n195  DescriptionPARCELLE A VENDRE AVEC TITRE A COTO...   \n196  DescriptionParcelle à vendre à Saint Jean Coto...   \n\n                            price                    area  \\\n0      \\n4.000.000 FCFA / Hectare          \\n80.000.00 m2   \n1     \\n5.500.000 FCFA / Parcelle  \\nN° ID Propriété49219   \n2               \\n2.800.000 FCFA              \\n400.00 m2   \n3              \\n18.000.000 FCFA              \\n317.00 m2   \n4        \\n450.000 FCFA / Hectare       \\n2.760.000.00 m2   \n..                            ...                     ...   \n192   \\n2.000.000 FCFA Négociable           \\n6.400.00 m2   \n193  \\n70.000.000 FCFA / Parcelle           \\n1.125.00 m2   \n194            \\n60.000.000 FCFA              \\n373.00 m2   \n195            \\n45.000.000 FCFA   \\nN° ID Propriété34566   \n196            \\n95.000.000 FCFA              \\n500.00 m2   \n\n                              location               date  \n0                   \\n\\nAllada, Allada   janvier 19, 2024  \n1       \\n\\nAbomey-Calavi, Maria Gléta    janvier 8, 2024  \n2                    \\n\\nOuidah, Pahou    janvier 8, 2024  \n3     \\n\\nCotonou, Akogbato, Fidjrossè    janvier 8, 2024  \n4                     \\n\\nKétou, Kétou    janvier 7, 2024  \n..                                 ...                ...  \n192                    \\n\\nAllada, SEY  décembre 23, 2023  \n193  \\n\\nFidjrossè, Cotonou, Fidjrossè  décembre 23, 2023  \n194             \\n\\nCotonou, Fidjrossè  décembre 18, 2023  \n195         \\n\\nCotonou, Cité Houéyiho  décembre 23, 2023  \n196            \\n\\nCotonou, Saint Jean  décembre 23, 2023  \n\n[186 rows x 6 columns]",
      "text/html": "<div>\n<style scoped>\n    .dataframe tbody tr th:only-of-type {\n        vertical-align: middle;\n    }\n\n    .dataframe tbody tr th {\n        vertical-align: top;\n    }\n\n    .dataframe thead th {\n        text-align: right;\n    }\n</style>\n<table border=\"1\" class=\"dataframe\">\n  <thead>\n    <tr style=\"text-align: right;\">\n      <th></th>\n      <th>title</th>\n      <th>description</th>\n      <th>price</th>\n      <th>area</th>\n      <th>location</th>\n      <th>date</th>\n    </tr>\n  </thead>\n  <tbody>\n    <tr>\n      <th>0</th>\n      <td>8 Hectares à vendre à Allada</td>\n      <td>DescriptionOPPORTUNITÉ RARE D’HECTARES A VENDR...</td>\n      <td>\\n4.000.000 FCFA / Hectare</td>\n      <td>\\n80.000.00 m2</td>\n      <td>\\n\\nAllada, Allada</td>\n      <td>janvier 19, 2024</td>\n    </tr>\n    <tr>\n      <th>1</th>\n      <td>Parcelles à vendre à Maria Gléta Awakè Calavi</td>\n      <td>DescriptionDisponibles des parcelles à vendre ...</td>\n      <td>\\n5.500.000 FCFA / Parcelle</td>\n      <td>\\nN° ID Propriété49219</td>\n      <td>\\n\\nAbomey-Calavi, Maria Gléta</td>\n      <td>janvier 8, 2024</td>\n    </tr>\n    <tr>\n      <th>2</th>\n      <td>Parcelle de 400m² avec titre foncier à vendre ...</td>\n      <td>DescriptionOpportunité d’une parcelle de 400m²...</td>\n      <td>\\n2.800.000 FCFA</td>\n      <td>\\n400.00 m2</td>\n      <td>\\n\\nOuidah, Pahou</td>\n      <td>janvier 8, 2024</td>\n    </tr>\n    <tr>\n      <th>3</th>\n      <td>Parcelle clôturée de 317 m2 à vendre à Fidjros...</td>\n      <td>DescriptionNous vous présentons l’opportunité ...</td>\n      <td>\\n18.000.000 FCFA</td>\n      <td>\\n317.00 m2</td>\n      <td>\\n\\nCotonou, Akogbato, Fidjrossè</td>\n      <td>janvier 8, 2024</td>\n    </tr>\n    <tr>\n      <th>4</th>\n      <td>276 Hectares de terre agricole avec ADC à vend...</td>\n      <td>DescriptionOpportunité de 276 hectares de terr...</td>\n      <td>\\n450.000 FCFA / Hectare</td>\n      <td>\\n2.760.000.00 m2</td>\n      <td>\\n\\nKétou, Kétou</td>\n      <td>janvier 7, 2024</td>\n    </tr>\n    <tr>\n      <th>...</th>\n      <td>...</td>\n      <td>...</td>\n      <td>...</td>\n      <td>...</td>\n      <td>...</td>\n      <td>...</td>\n    </tr>\n    <tr>\n      <th>192</th>\n      <td>Domaine de 6400 m2 à vendre à Allada</td>\n      <td>DescriptionNous vous proposons un domaine à ve...</td>\n      <td>\\n2.000.000 FCFA Négociable</td>\n      <td>\\n6.400.00 m2</td>\n      <td>\\n\\nAllada, SEY</td>\n      <td>décembre 23, 2023</td>\n    </tr>\n    <tr>\n      <th>193</th>\n      <td>Vente de 3 parcelles ensemble à Fidjrossè</td>\n      <td>DescriptionVENTE DE 3 PARCELLES ENSEMBLE A FID...</td>\n      <td>\\n70.000.000 FCFA / Parcelle</td>\n      <td>\\n1.125.00 m2</td>\n      <td>\\n\\nFidjrossè, Cotonou, Fidjrossè</td>\n      <td>décembre 23, 2023</td>\n    </tr>\n    <tr>\n      <th>194</th>\n      <td>Maison à vendre à Fidjrossè Cotonou</td>\n      <td>DescriptionMAISON A VENDRE A FIDJROSSE COTONOU...</td>\n      <td>\\n60.000.000 FCFA</td>\n      <td>\\n373.00 m2</td>\n      <td>\\n\\nCotonou, Fidjrossè</td>\n      <td>décembre 18, 2023</td>\n    </tr>\n    <tr>\n      <th>195</th>\n      <td>Parcelle à vendre avec Titre Foncier à Houéyiho</td>\n      <td>DescriptionPARCELLE A VENDRE AVEC TITRE A COTO...</td>\n      <td>\\n45.000.000 FCFA</td>\n      <td>\\nN° ID Propriété34566</td>\n      <td>\\n\\nCotonou, Cité Houéyiho</td>\n      <td>décembre 23, 2023</td>\n    </tr>\n    <tr>\n      <th>196</th>\n      <td>Parcelle à vendre à Saint Jean Cotonou</td>\n      <td>DescriptionParcelle à vendre à Saint Jean Coto...</td>\n      <td>\\n95.000.000 FCFA</td>\n      <td>\\n500.00 m2</td>\n      <td>\\n\\nCotonou, Saint Jean</td>\n      <td>décembre 23, 2023</td>\n    </tr>\n  </tbody>\n</table>\n<p>186 rows × 6 columns</p>\n</div>"
     },
     "execution_count": 8,
     "metadata": {},
     "output_type": "execute_result"
    }
   ],
   "source": [
    "df"
   ],
   "metadata": {
    "collapsed": false,
    "ExecuteTime": {
     "end_time": "2024-02-21T19:43:21.113125Z",
     "start_time": "2024-02-21T19:43:21.101040Z"
    }
   },
   "id": "1a9332b557c7cdcf",
   "execution_count": 8
  },
  {
   "cell_type": "code",
   "outputs": [],
   "source": [
    "from geotext import GeoText"
   ],
   "metadata": {
    "collapsed": false,
    "ExecuteTime": {
     "end_time": "2024-02-21T20:26:50.879178Z",
     "start_time": "2024-02-21T20:26:50.832754Z"
    }
   },
   "id": "58b58ea5b8929eec",
   "execution_count": 31
  },
  {
   "cell_type": "code",
   "outputs": [],
   "source": [
    "def detecter_villes_geotext(phrases):\n",
    "    for phrase in phrases:\n",
    "        villes = GeoText(phrase).cities\n",
    "        if villes:\n",
    "            print(f\"{', '.join(villes)}\")"
   ],
   "metadata": {
    "collapsed": false,
    "ExecuteTime": {
     "end_time": "2024-02-21T20:27:10.113060Z",
     "start_time": "2024-02-21T20:27:10.107352Z"
    }
   },
   "id": "649aad0d1caf1412",
   "execution_count": 32
  },
  {
   "cell_type": "code",
   "outputs": [],
   "source": [
    "# add description and title to the text column\n",
    "df.loc[:, 'text'] = df['title'] + \" \" + df['description']"
   ],
   "metadata": {
    "collapsed": false,
    "ExecuteTime": {
     "end_time": "2024-02-21T20:22:33.212273Z",
     "start_time": "2024-02-21T20:22:33.202482Z"
    }
   },
   "id": "914b5798456cb239",
   "execution_count": 29
  },
  {
   "cell_type": "code",
   "outputs": [
    {
     "name": "stdout",
     "output_type": "stream",
     "text": [
      "Kétou, Kétou\n",
      "Ouidah\n",
      "Cotonou\n",
      "Abomey-Calavi\n",
      "Abomey-Calavi\n",
      "Ouidah\n",
      "Cotonou\n",
      "Cotonou\n",
      "Abomey-Calavi\n",
      "Ouidah\n",
      "Cotonou\n",
      "Abomey-Calavi\n",
      "Abomey-Calavi\n",
      "Allada, Allada\n",
      "Ouidah\n",
      "Cotonou, Cotonou, Cotonou\n",
      "Abomey-Calavi\n",
      "Un\n",
      "Cotonou\n",
      "Cotonou, Un, Cotonou, Cotonou\n",
      "Cotonou, Un, Cotonou, Cotonou\n",
      "Abomey-Calavi\n",
      "Abomey-Calavi\n",
      "Cotonou\n",
      "Cotonou\n",
      "Cotonou, Cotonou\n",
      "Cotonou\n",
      "Cotonou\n",
      "Allada, Allada, Allada\n",
      "Cotonou\n",
      "Allada\n",
      "Un\n",
      "Abomey-Calavi, Abomey-Calavi\n",
      "Abomey-Calavi, Cotonou, Lomé\n",
      "Cotonou, Ouidah\n",
      "Ouidah\n",
      "Ouidah, Cotonou, Lomé\n",
      "Cotonou, Cotonou\n",
      "Cotonou\n",
      "Abomey-Calavi\n",
      "Abomey-Calavi\n",
      "Abomey-Calavi, Eden\n",
      "Abomey-Calavi\n",
      "Cotonou, Cotonou\n",
      "Abomey-Calavi\n",
      "Abomey-Calavi\n",
      "Cotonou\n",
      "Cotonou\n",
      "Abomey-Calavi\n",
      "Cotonou\n",
      "Abomey-Calavi\n",
      "Cotonou\n",
      "Cotonou, Cotonou\n",
      "Un, Abomey-Calavi\n",
      "Abomey-Calavi\n",
      "Cotonou, Marina\n",
      "Cotonou\n",
      "Un\n",
      "Ouidah\n",
      "Allada, Allada\n",
      "Cotonou\n",
      "Abomey\n",
      "Abomey-Calavi\n",
      "Bohicon, Abomey\n",
      "Toyota\n",
      "Un\n",
      "Un\n",
      "Abomey-Calavi\n",
      "Abomey\n",
      "Abomey-Calavi\n",
      "Cotonou\n",
      "Cotonou\n"
     ]
    }
   ],
   "source": [
    "detecter_villes_geotext(df['text'])"
   ],
   "metadata": {
    "collapsed": false,
    "ExecuteTime": {
     "end_time": "2024-02-21T20:27:16.353580Z",
     "start_time": "2024-02-21T20:27:16.342187Z"
    }
   },
   "id": "ca8ebfdf68091409",
   "execution_count": 33
  },
  {
   "cell_type": "code",
   "outputs": [],
   "source": [],
   "metadata": {
    "collapsed": false
   },
   "id": "61e0f8c755e5ee86"
  }
 ],
 "metadata": {
  "kernelspec": {
   "display_name": "Python 3",
   "language": "python",
   "name": "python3"
  },
  "language_info": {
   "codemirror_mode": {
    "name": "ipython",
    "version": 2
   },
   "file_extension": ".py",
   "mimetype": "text/x-python",
   "name": "python",
   "nbconvert_exporter": "python",
   "pygments_lexer": "ipython2",
   "version": "2.7.6"
  }
 },
 "nbformat": 4,
 "nbformat_minor": 5
}
